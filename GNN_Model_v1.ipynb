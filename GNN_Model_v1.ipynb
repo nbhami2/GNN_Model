{
  "nbformat": 4,
  "nbformat_minor": 0,
  "metadata": {
    "colab": {
      "provenance": [],
      "mount_file_id": "1aTYuLCyJvvt6SZ8__XnYRj-8Bj05adfO",
      "authorship_tag": "ABX9TyPGPk8P6d92xKqo523wlERK",
      "include_colab_link": true
    },
    "kernelspec": {
      "name": "python3",
      "display_name": "Python 3"
    },
    "language_info": {
      "name": "python"
    }
  },
  "cells": [
    {
      "cell_type": "markdown",
      "metadata": {
        "id": "view-in-github",
        "colab_type": "text"
      },
      "source": [
        "<a href=\"https://colab.research.google.com/github/nbhami2/GNN_Model/blob/main/GNN_Model_v1.ipynb\" target=\"_parent\"><img src=\"https://colab.research.google.com/assets/colab-badge.svg\" alt=\"Open In Colab\"/></a>"
      ]
    },
    {
      "cell_type": "code",
      "execution_count": null,
      "metadata": {
        "id": "pEO10AdoR09A",
        "colab": {
          "base_uri": "https://localhost:8080/"
        },
        "outputId": "ad445209-f654-447a-86bc-7f506c387ed0"
      },
      "outputs": [
        {
          "output_type": "stream",
          "name": "stdout",
          "text": [
            "Collecting torch_geometric\n",
            "  Downloading torch_geometric-2.6.1-py3-none-any.whl.metadata (63 kB)\n",
            "\u001b[?25l     \u001b[90m━━━━━━━━━━━━━━━━━━━━━━━━━━━━━━━━━━━━━━━━\u001b[0m \u001b[32m0.0/63.1 kB\u001b[0m \u001b[31m?\u001b[0m eta \u001b[36m-:--:--\u001b[0m\r\u001b[2K     \u001b[90m━━━━━━━━━━━━━━━━━━━━━━━━━━━━━━━━━━━━━━━━\u001b[0m \u001b[32m63.1/63.1 kB\u001b[0m \u001b[31m2.1 MB/s\u001b[0m eta \u001b[36m0:00:00\u001b[0m\n",
            "\u001b[?25hRequirement already satisfied: aiohttp in /usr/local/lib/python3.11/dist-packages (from torch_geometric) (3.11.15)\n",
            "Requirement already satisfied: fsspec in /usr/local/lib/python3.11/dist-packages (from torch_geometric) (2025.3.2)\n",
            "Requirement already satisfied: jinja2 in /usr/local/lib/python3.11/dist-packages (from torch_geometric) (3.1.6)\n",
            "Requirement already satisfied: numpy in /usr/local/lib/python3.11/dist-packages (from torch_geometric) (2.0.2)\n",
            "Requirement already satisfied: psutil>=5.8.0 in /usr/local/lib/python3.11/dist-packages (from torch_geometric) (5.9.5)\n",
            "Requirement already satisfied: pyparsing in /usr/local/lib/python3.11/dist-packages (from torch_geometric) (3.2.3)\n",
            "Requirement already satisfied: requests in /usr/local/lib/python3.11/dist-packages (from torch_geometric) (2.32.3)\n",
            "Requirement already satisfied: tqdm in /usr/local/lib/python3.11/dist-packages (from torch_geometric) (4.67.1)\n",
            "Requirement already satisfied: aiohappyeyeballs>=2.3.0 in /usr/local/lib/python3.11/dist-packages (from aiohttp->torch_geometric) (2.6.1)\n",
            "Requirement already satisfied: aiosignal>=1.1.2 in /usr/local/lib/python3.11/dist-packages (from aiohttp->torch_geometric) (1.3.2)\n",
            "Requirement already satisfied: attrs>=17.3.0 in /usr/local/lib/python3.11/dist-packages (from aiohttp->torch_geometric) (25.3.0)\n",
            "Requirement already satisfied: frozenlist>=1.1.1 in /usr/local/lib/python3.11/dist-packages (from aiohttp->torch_geometric) (1.6.0)\n",
            "Requirement already satisfied: multidict<7.0,>=4.5 in /usr/local/lib/python3.11/dist-packages (from aiohttp->torch_geometric) (6.4.3)\n",
            "Requirement already satisfied: propcache>=0.2.0 in /usr/local/lib/python3.11/dist-packages (from aiohttp->torch_geometric) (0.3.1)\n",
            "Requirement already satisfied: yarl<2.0,>=1.17.0 in /usr/local/lib/python3.11/dist-packages (from aiohttp->torch_geometric) (1.20.0)\n",
            "Requirement already satisfied: MarkupSafe>=2.0 in /usr/local/lib/python3.11/dist-packages (from jinja2->torch_geometric) (3.0.2)\n",
            "Requirement already satisfied: charset-normalizer<4,>=2 in /usr/local/lib/python3.11/dist-packages (from requests->torch_geometric) (3.4.1)\n",
            "Requirement already satisfied: idna<4,>=2.5 in /usr/local/lib/python3.11/dist-packages (from requests->torch_geometric) (3.10)\n",
            "Requirement already satisfied: urllib3<3,>=1.21.1 in /usr/local/lib/python3.11/dist-packages (from requests->torch_geometric) (2.3.0)\n",
            "Requirement already satisfied: certifi>=2017.4.17 in /usr/local/lib/python3.11/dist-packages (from requests->torch_geometric) (2025.1.31)\n",
            "Downloading torch_geometric-2.6.1-py3-none-any.whl (1.1 MB)\n",
            "\u001b[2K   \u001b[90m━━━━━━━━━━━━━━━━━━━━━━━━━━━━━━━━━━━━━━━━\u001b[0m \u001b[32m1.1/1.1 MB\u001b[0m \u001b[31m16.7 MB/s\u001b[0m eta \u001b[36m0:00:00\u001b[0m\n",
            "\u001b[?25hInstalling collected packages: torch_geometric\n",
            "Successfully installed torch_geometric-2.6.1\n",
            "Collecting mne\n",
            "  Downloading mne-1.9.0-py3-none-any.whl.metadata (20 kB)\n",
            "Requirement already satisfied: decorator in /usr/local/lib/python3.11/dist-packages (from mne) (4.4.2)\n",
            "Requirement already satisfied: jinja2 in /usr/local/lib/python3.11/dist-packages (from mne) (3.1.6)\n",
            "Requirement already satisfied: lazy-loader>=0.3 in /usr/local/lib/python3.11/dist-packages (from mne) (0.4)\n",
            "Requirement already satisfied: matplotlib>=3.6 in /usr/local/lib/python3.11/dist-packages (from mne) (3.10.0)\n",
            "Requirement already satisfied: numpy<3,>=1.23 in /usr/local/lib/python3.11/dist-packages (from mne) (2.0.2)\n",
            "Requirement already satisfied: packaging in /usr/local/lib/python3.11/dist-packages (from mne) (24.2)\n",
            "Requirement already satisfied: pooch>=1.5 in /usr/local/lib/python3.11/dist-packages (from mne) (1.8.2)\n",
            "Requirement already satisfied: scipy>=1.9 in /usr/local/lib/python3.11/dist-packages (from mne) (1.14.1)\n",
            "Requirement already satisfied: tqdm in /usr/local/lib/python3.11/dist-packages (from mne) (4.67.1)\n",
            "Requirement already satisfied: contourpy>=1.0.1 in /usr/local/lib/python3.11/dist-packages (from matplotlib>=3.6->mne) (1.3.2)\n",
            "Requirement already satisfied: cycler>=0.10 in /usr/local/lib/python3.11/dist-packages (from matplotlib>=3.6->mne) (0.12.1)\n",
            "Requirement already satisfied: fonttools>=4.22.0 in /usr/local/lib/python3.11/dist-packages (from matplotlib>=3.6->mne) (4.57.0)\n",
            "Requirement already satisfied: kiwisolver>=1.3.1 in /usr/local/lib/python3.11/dist-packages (from matplotlib>=3.6->mne) (1.4.8)\n",
            "Requirement already satisfied: pillow>=8 in /usr/local/lib/python3.11/dist-packages (from matplotlib>=3.6->mne) (11.1.0)\n",
            "Requirement already satisfied: pyparsing>=2.3.1 in /usr/local/lib/python3.11/dist-packages (from matplotlib>=3.6->mne) (3.2.3)\n",
            "Requirement already satisfied: python-dateutil>=2.7 in /usr/local/lib/python3.11/dist-packages (from matplotlib>=3.6->mne) (2.8.2)\n",
            "Requirement already satisfied: platformdirs>=2.5.0 in /usr/local/lib/python3.11/dist-packages (from pooch>=1.5->mne) (4.3.7)\n",
            "Requirement already satisfied: requests>=2.19.0 in /usr/local/lib/python3.11/dist-packages (from pooch>=1.5->mne) (2.32.3)\n",
            "Requirement already satisfied: MarkupSafe>=2.0 in /usr/local/lib/python3.11/dist-packages (from jinja2->mne) (3.0.2)\n",
            "Requirement already satisfied: six>=1.5 in /usr/local/lib/python3.11/dist-packages (from python-dateutil>=2.7->matplotlib>=3.6->mne) (1.17.0)\n",
            "Requirement already satisfied: charset-normalizer<4,>=2 in /usr/local/lib/python3.11/dist-packages (from requests>=2.19.0->pooch>=1.5->mne) (3.4.1)\n",
            "Requirement already satisfied: idna<4,>=2.5 in /usr/local/lib/python3.11/dist-packages (from requests>=2.19.0->pooch>=1.5->mne) (3.10)\n",
            "Requirement already satisfied: urllib3<3,>=1.21.1 in /usr/local/lib/python3.11/dist-packages (from requests>=2.19.0->pooch>=1.5->mne) (2.3.0)\n",
            "Requirement already satisfied: certifi>=2017.4.17 in /usr/local/lib/python3.11/dist-packages (from requests>=2.19.0->pooch>=1.5->mne) (2025.1.31)\n",
            "Downloading mne-1.9.0-py3-none-any.whl (7.4 MB)\n",
            "\u001b[2K   \u001b[90m━━━━━━━━━━━━━━━━━━━━━━━━━━━━━━━━━━━━━━━━\u001b[0m \u001b[32m7.4/7.4 MB\u001b[0m \u001b[31m39.5 MB/s\u001b[0m eta \u001b[36m0:00:00\u001b[0m\n",
            "\u001b[?25hInstalling collected packages: mne\n",
            "Successfully installed mne-1.9.0\n",
            "Collecting mne-connectivity\n",
            "  Downloading mne_connectivity-0.7.0-py3-none-any.whl.metadata (10 kB)\n",
            "Requirement already satisfied: mne>=1.6 in /usr/local/lib/python3.11/dist-packages (from mne-connectivity) (1.9.0)\n",
            "Collecting netCDF4>=1.6.5 (from mne-connectivity)\n",
            "  Downloading netCDF4-1.7.2-cp311-cp311-manylinux_2_17_x86_64.manylinux2014_x86_64.whl.metadata (1.8 kB)\n",
            "Requirement already satisfied: numpy>=1.21 in /usr/local/lib/python3.11/dist-packages (from mne-connectivity) (2.0.2)\n",
            "Requirement already satisfied: pandas>=1.3.2 in /usr/local/lib/python3.11/dist-packages (from mne-connectivity) (2.2.2)\n",
            "Requirement already satisfied: scipy>=1.4.0 in /usr/local/lib/python3.11/dist-packages (from mne-connectivity) (1.14.1)\n",
            "Requirement already satisfied: tqdm in /usr/local/lib/python3.11/dist-packages (from mne-connectivity) (4.67.1)\n",
            "Requirement already satisfied: xarray>=2023.11.0 in /usr/local/lib/python3.11/dist-packages (from mne-connectivity) (2025.1.2)\n",
            "Requirement already satisfied: decorator in /usr/local/lib/python3.11/dist-packages (from mne>=1.6->mne-connectivity) (4.4.2)\n",
            "Requirement already satisfied: jinja2 in /usr/local/lib/python3.11/dist-packages (from mne>=1.6->mne-connectivity) (3.1.6)\n",
            "Requirement already satisfied: lazy-loader>=0.3 in /usr/local/lib/python3.11/dist-packages (from mne>=1.6->mne-connectivity) (0.4)\n",
            "Requirement already satisfied: matplotlib>=3.6 in /usr/local/lib/python3.11/dist-packages (from mne>=1.6->mne-connectivity) (3.10.0)\n",
            "Requirement already satisfied: packaging in /usr/local/lib/python3.11/dist-packages (from mne>=1.6->mne-connectivity) (24.2)\n",
            "Requirement already satisfied: pooch>=1.5 in /usr/local/lib/python3.11/dist-packages (from mne>=1.6->mne-connectivity) (1.8.2)\n",
            "Collecting cftime (from netCDF4>=1.6.5->mne-connectivity)\n",
            "  Downloading cftime-1.6.4.post1-cp311-cp311-manylinux_2_17_x86_64.manylinux2014_x86_64.whl.metadata (8.7 kB)\n",
            "Requirement already satisfied: certifi in /usr/local/lib/python3.11/dist-packages (from netCDF4>=1.6.5->mne-connectivity) (2025.1.31)\n",
            "Requirement already satisfied: python-dateutil>=2.8.2 in /usr/local/lib/python3.11/dist-packages (from pandas>=1.3.2->mne-connectivity) (2.8.2)\n",
            "Requirement already satisfied: pytz>=2020.1 in /usr/local/lib/python3.11/dist-packages (from pandas>=1.3.2->mne-connectivity) (2025.2)\n",
            "Requirement already satisfied: tzdata>=2022.7 in /usr/local/lib/python3.11/dist-packages (from pandas>=1.3.2->mne-connectivity) (2025.2)\n",
            "Requirement already satisfied: contourpy>=1.0.1 in /usr/local/lib/python3.11/dist-packages (from matplotlib>=3.6->mne>=1.6->mne-connectivity) (1.3.2)\n",
            "Requirement already satisfied: cycler>=0.10 in /usr/local/lib/python3.11/dist-packages (from matplotlib>=3.6->mne>=1.6->mne-connectivity) (0.12.1)\n",
            "Requirement already satisfied: fonttools>=4.22.0 in /usr/local/lib/python3.11/dist-packages (from matplotlib>=3.6->mne>=1.6->mne-connectivity) (4.57.0)\n",
            "Requirement already satisfied: kiwisolver>=1.3.1 in /usr/local/lib/python3.11/dist-packages (from matplotlib>=3.6->mne>=1.6->mne-connectivity) (1.4.8)\n",
            "Requirement already satisfied: pillow>=8 in /usr/local/lib/python3.11/dist-packages (from matplotlib>=3.6->mne>=1.6->mne-connectivity) (11.1.0)\n",
            "Requirement already satisfied: pyparsing>=2.3.1 in /usr/local/lib/python3.11/dist-packages (from matplotlib>=3.6->mne>=1.6->mne-connectivity) (3.2.3)\n",
            "Requirement already satisfied: platformdirs>=2.5.0 in /usr/local/lib/python3.11/dist-packages (from pooch>=1.5->mne>=1.6->mne-connectivity) (4.3.7)\n",
            "Requirement already satisfied: requests>=2.19.0 in /usr/local/lib/python3.11/dist-packages (from pooch>=1.5->mne>=1.6->mne-connectivity) (2.32.3)\n",
            "Requirement already satisfied: six>=1.5 in /usr/local/lib/python3.11/dist-packages (from python-dateutil>=2.8.2->pandas>=1.3.2->mne-connectivity) (1.17.0)\n",
            "Requirement already satisfied: MarkupSafe>=2.0 in /usr/local/lib/python3.11/dist-packages (from jinja2->mne>=1.6->mne-connectivity) (3.0.2)\n",
            "Requirement already satisfied: charset-normalizer<4,>=2 in /usr/local/lib/python3.11/dist-packages (from requests>=2.19.0->pooch>=1.5->mne>=1.6->mne-connectivity) (3.4.1)\n",
            "Requirement already satisfied: idna<4,>=2.5 in /usr/local/lib/python3.11/dist-packages (from requests>=2.19.0->pooch>=1.5->mne>=1.6->mne-connectivity) (3.10)\n",
            "Requirement already satisfied: urllib3<3,>=1.21.1 in /usr/local/lib/python3.11/dist-packages (from requests>=2.19.0->pooch>=1.5->mne>=1.6->mne-connectivity) (2.3.0)\n",
            "Downloading mne_connectivity-0.7.0-py3-none-any.whl (115 kB)\n",
            "\u001b[2K   \u001b[90m━━━━━━━━━━━━━━━━━━━━━━━━━━━━━━━━━━━━━━━━\u001b[0m \u001b[32m115.2/115.2 kB\u001b[0m \u001b[31m3.2 MB/s\u001b[0m eta \u001b[36m0:00:00\u001b[0m\n",
            "\u001b[?25hDownloading netCDF4-1.7.2-cp311-cp311-manylinux_2_17_x86_64.manylinux2014_x86_64.whl (9.3 MB)\n",
            "\u001b[2K   \u001b[90m━━━━━━━━━━━━━━━━━━━━━━━━━━━━━━━━━━━━━━━━\u001b[0m \u001b[32m9.3/9.3 MB\u001b[0m \u001b[31m73.0 MB/s\u001b[0m eta \u001b[36m0:00:00\u001b[0m\n",
            "\u001b[?25hDownloading cftime-1.6.4.post1-cp311-cp311-manylinux_2_17_x86_64.manylinux2014_x86_64.whl (1.4 MB)\n",
            "\u001b[2K   \u001b[90m━━━━━━━━━━━━━━━━━━━━━━━━━━━━━━━━━━━━━━━━\u001b[0m \u001b[32m1.4/1.4 MB\u001b[0m \u001b[31m66.5 MB/s\u001b[0m eta \u001b[36m0:00:00\u001b[0m\n",
            "\u001b[?25hInstalling collected packages: cftime, netCDF4, mne-connectivity\n",
            "Successfully installed cftime-1.6.4.post1 mne-connectivity-0.7.0 netCDF4-1.7.2\n"
          ]
        }
      ],
      "source": [
        "!pip install torch_geometric\n",
        "!pip install mne\n",
        "!pip install mne-connectivity\n",
        "import torch\n",
        "import torch.nn.functional as F\n",
        "from torch_geometric.nn import GCNConv\n",
        "from torch_geometric.data import Data, DataLoader\n",
        "import numpy as np\n",
        "import networkx as nx\n",
        "from sklearn.model_selection import train_test_split\n",
        "\n",
        "import os\n",
        "import mne\n",
        "import pandas as pd\n",
        "import numpy as np\n",
        "import torch\n",
        "import torch.nn as nn\n",
        "import torch.optim as optim\n",
        "from torch.utils.data import Dataset, DataLoader, TensorDataset, WeightedRandomSampler\n",
        "from sklearn.preprocessing import StandardScaler\n",
        "from sklearn.model_selection import train_test_split\n",
        "from sklearn.utils.class_weight import compute_class_weight\n",
        "from sklearn.metrics import accuracy_score, precision_score, recall_score, f1_score, confusion_matrix,ConfusionMatrixDisplay,roc_curve, auc, mutual_info_score\n",
        "import matplotlib.pyplot as plt\n",
        "from graphviz import Digraph\n",
        "import mne_connectivity\n",
        "import seaborn as sns\n",
        "import random\n",
        "from sklearn.metrics import accuracy_score, precision_score, recall_score"
      ]
    },
    {
      "cell_type": "code",
      "source": [
        "data_dir = '/content/drive/MyDrive/gnn_data'"
      ],
      "metadata": {
        "id": "0xBHTrS_7Ctb"
      },
      "execution_count": null,
      "outputs": []
    },
    {
      "cell_type": "code",
      "source": [
        "raw_data_path = os.path.join(data_dir, 'correlation_data.npz')\n",
        "data_fd = np.load(raw_data_path)  # Ensure this is defined\n",
        "X = data_fd['X']\n",
        "y = data_fd['y']\n",
        "\n",
        "chs = [\n",
        "     'C1','C3', 'C5', 'CP5', 'CP1', 'CP6', 'CP2',  'CP3', 'CP4', 'C6', 'C2', 'C4'\n",
        "      ]\n",
        "\n",
        "# Define FM scale classification cls\n",
        "cls = {\n",
        "    '004C': 0, '005C': 0, '006C': 0, '007C': 0, '008C': 0, '009C': 0, '023C': 0, '024C': 0, '025C': 0,\n",
        "    '027C': 0, '029C': 0, '030C': 0, '031C': 0, '032C': 0, # Class 1 Normal\n",
        "    '002S': 1, '011S': 1, '012S': 1, '013S': 1, '015S': 1, '021S': 1, '034S': 1, # Class 2: FM 30-45\n",
        "    '001S': 2, '016S': 2, '018S': 2, '019S': 2, '033S': 2  # Class 3: FM < 30 (Severe impairment)\n",
        "}"
      ],
      "metadata": {
        "id": "J6rf6vrA63MS"
      },
      "execution_count": null,
      "outputs": []
    },
    {
      "cell_type": "code",
      "source": [
        "# EEG channel names (should match the number of channels in your data)\n",
        "chs = [\n",
        "     'C1','C3', 'C5', 'CP5', 'CP1', 'CP6', 'CP2',  'CP3', 'CP4', 'C6', 'C2', 'C4'\n",
        "      ]"
      ],
      "metadata": {
        "id": "EtofHUfn6qnk"
      },
      "execution_count": null,
      "outputs": []
    },
    {
      "cell_type": "code",
      "source": [
        "class GNN(torch.nn.Module):\n",
        "    def __init__(self, input_dim, hidden_dim, output_dim):\n",
        "        super(GNN, self).__init__()\n",
        "        self.conv1 = GCNConv(input_dim, hidden_dim, normalize=True)\n",
        "        self.conv2 = GCNConv(hidden_dim, output_dim, normalize=True)\n",
        "\n",
        "    def forward(self, data):\n",
        "        x, edge_index, edge_attr = data.x, data.edge_index, data.edge_attr\n",
        "        x = F.relu(self.conv1(x, edge_index, edge_weight=edge_attr))\n",
        "        x = F.dropout(x, p=0.5, training=self.training)\n",
        "        x = self.conv2(x, edge_index, edge_weight=edge_attr)\n",
        "        return F.log_softmax(x, dim=-1)"
      ],
      "metadata": {
        "id": "BziuREW96D40"
      },
      "execution_count": null,
      "outputs": []
    },
    {
      "cell_type": "code",
      "source": [
        "# def create_eeg_graph(num_channels=12, features_dim=5, label=None):\n",
        "#     node_features = torch.rand((num_channels, features_dim), dtype=torch.float)\n",
        "\n",
        "#     connectivity_matrix = np.random.rand(num_channels, num_channels)\n",
        "#     connectivity_matrix = (connectivity_matrix + connectivity_matrix.T) / 2\n",
        "#     np.fill_diagonal(connectivity_matrix, 0)\n",
        "\n",
        "#     edge_indices = np.nonzero(connectivity_matrix)\n",
        "#     edge_index = torch.tensor(np.array(edge_indices), dtype=torch.long)\n",
        "\n",
        "#     edge_weights = torch.tensor(connectivity_matrix[edge_indices], dtype=torch.float)\n",
        "#     node_labels = torch.tensor([label] * num_channels, dtype=torch.long)\n",
        "#     return Data(x=node_features, edge_index=edge_index, edge_attr=edge_weights, y=node_labels)\n",
        "\n",
        "\n",
        "# # Create multiple graphs for dataset\n",
        "# num_samples = 20\n",
        "# labels = torch.tensor(np.random.randint(0, 2, num_samples), dtype=torch.long)  # Binary labels\n",
        "# graphs = [create_eeg_graph(label=labels[i]) for i in range(num_samples)]  # Pass the label to create_eeg_graph\n",
        "\n",
        "\n",
        "# train_graphs, val_graphs, train_labels, val_labels = train_test_split(graphs, labels, test_size=0.2, random_state=42)\n",
        "\n",
        "labels = torch.tensor(y, dtype=torch.long)\n",
        "graphs = torch.tensor(X, dtype=torch.float)\n",
        "train_graphs, val_graphs, train_labels, val_labels = train_test_split(graphs, labels, test_size=0.2, random_state=42)"
      ],
      "metadata": {
        "id": "JRzS85-sR5L3"
      },
      "execution_count": null,
      "outputs": []
    },
    {
      "source": [
        "import torch\n",
        "import torch.nn.functional as F\n",
        "from torch_geometric.nn import GCNConv\n",
        "from torch_geometric.data import Data, DataLoader\n",
        "import numpy as np\n",
        "import networkx as nx\n",
        "from sklearn.model_selection import train_test_split\n",
        "\n",
        "graphs = []\n",
        "for i in range(X.shape[0]):\n",
        "    num_nodes = X.shape[1]\n",
        "    edge_index = torch.tensor(\n",
        "        [[i, j] for i in range(num_nodes) for j in range(num_nodes) if i != j],\n",
        "        dtype=torch.long\n",
        "    ).t().contiguous()\n",
        "\n",
        "    edge_attr = torch.ones(edge_index.shape[1], dtype=torch.float)\n",
        "\n",
        "    data = Data(x=torch.tensor(X[i], dtype=torch.float),\n",
        "                edge_index=edge_index,\n",
        "                edge_attr=edge_attr,\n",
        "                y=torch.tensor(y[i], dtype=torch.long))\n",
        "    graphs.append(data)\n",
        "\n",
        "# Split the data\n",
        "train_graphs, val_graphs, train_labels, val_labels = train_test_split(graphs, labels, test_size=0.2, random_state=42)\n",
        "\n",
        "# Create DataLoaders\n",
        "train_loader = DataLoader(train_graphs, batch_size=16, shuffle=True)\n",
        "val_loader = DataLoader(val_graphs, batch_size=16, shuffle=False)\n"
      ],
      "cell_type": "code",
      "metadata": {
        "colab": {
          "base_uri": "https://localhost:8080/"
        },
        "id": "llBlxs_mbCx0",
        "outputId": "d2ac178f-d08b-432b-ff35-45aba8f31b78"
      },
      "execution_count": null,
      "outputs": [
        {
          "output_type": "stream",
          "name": "stderr",
          "text": [
            "/usr/local/lib/python3.11/dist-packages/torch_geometric/deprecation.py:26: UserWarning: 'data.DataLoader' is deprecated, use 'loader.DataLoader' instead\n",
            "  warnings.warn(out)\n"
          ]
        }
      ]
    },
    {
      "cell_type": "code",
      "source": [
        "train_loader = DataLoader(train_graphs, batch_size=16, shuffle=True)\n",
        "val_loader = DataLoader(val_graphs, batch_size=16, shuffle=False)\n",
        "\n",
        "device = torch.device(\"cuda\" if torch.cuda.is_available() else \"cpu\")\n",
        "model = GNN(input_dim=X.shape[2], hidden_dim=16, output_dim=5).to(device)\n",
        "optimizer = torch.optim.Adam(model.parameters(), lr=0.01)\n",
        "criterion = torch.nn.NLLLoss()\n",
        "\n",
        "def train(model, loader, optimizer, criterion, epochs=10):\n",
        "    model.train()\n",
        "    for epoch in range(epochs):\n",
        "        total_loss = 0\n",
        "        correct = 0\n",
        "        total = 0\n",
        "        for data in loader:\n",
        "            data = data.to(device)\n",
        "            optimizer.zero_grad()\n",
        "            output = model(data)\n",
        "            target = data.y[0].repeat(output.shape[0])\n",
        "            loss = criterion(output, target)\n",
        "            loss.backward()\n",
        "            optimizer.step()\n",
        "            total_loss += loss.item()\n",
        "            preds = output.argmax(dim=1)\n",
        "            correct += (preds == target).sum().item()\n",
        "            total += target.size(0)\n",
        "        accuracy = correct / total\n",
        "        print(f\"Epoch {epoch+1}, Loss: {total_loss/len(loader):.4f}, Accuracy: {accuracy:.4f}\")\n",
        "\n",
        "train(model, train_loader, optimizer, criterion)"
      ],
      "metadata": {
        "id": "PF9v5tljR6eW",
        "colab": {
          "base_uri": "https://localhost:8080/"
        },
        "outputId": "71b10734-c0ed-49a1-e040-bf46b780ebee"
      },
      "execution_count": null,
      "outputs": [
        {
          "output_type": "stream",
          "name": "stderr",
          "text": [
            "/usr/local/lib/python3.11/dist-packages/torch_geometric/deprecation.py:26: UserWarning: 'data.DataLoader' is deprecated, use 'loader.DataLoader' instead\n",
            "  warnings.warn(out)\n"
          ]
        },
        {
          "output_type": "stream",
          "name": "stdout",
          "text": [
            "Epoch 1, Loss: 1.2953, Accuracy: 0.5692\n",
            "Epoch 2, Loss: 1.2495, Accuracy: 0.5716\n",
            "Epoch 3, Loss: 1.2274, Accuracy: 0.5653\n",
            "Epoch 4, Loss: 1.3012, Accuracy: 0.5327\n",
            "Epoch 5, Loss: 1.2116, Accuracy: 0.5741\n",
            "Epoch 6, Loss: 1.1908, Accuracy: 0.5942\n",
            "Epoch 7, Loss: 1.1947, Accuracy: 0.5879\n",
            "Epoch 8, Loss: 1.2454, Accuracy: 0.5666\n",
            "Epoch 9, Loss: 1.2252, Accuracy: 0.5729\n",
            "Epoch 10, Loss: 1.1703, Accuracy: 0.5992\n"
          ]
        }
      ]
    },
    {
      "cell_type": "code",
      "source": [
        "def evaluate(model, loader):\n",
        "    model.eval()\n",
        "    correct = 0\n",
        "    total = 0\n",
        "    with torch.no_grad():\n",
        "        for data in loader:\n",
        "            data = data.to(device)\n",
        "            output = model(data)\n",
        "            preds = output.argmax(dim=1)\n",
        "            targets = data.y[0].repeat(output.shape[0])\n",
        "            loss = criterion(output, targets)\n",
        "            correct += (preds == targets).sum().item()\n",
        "            total += targets.size(0)\n",
        "    print(f\"Validation Accuracy: {correct / total:.2%}\")\n",
        "    print(f\"Validation Loss: {loss.item():.4f}\")\n",
        "\n",
        "evaluate(model, val_loader)"
      ],
      "metadata": {
        "id": "1pG16LADR-Gl"
      },
      "execution_count": null,
      "outputs": []
    },
    {
      "cell_type": "code",
      "source": [],
      "metadata": {
        "id": "ya6JlyItR_ud"
      },
      "execution_count": null,
      "outputs": []
    }
  ]
}